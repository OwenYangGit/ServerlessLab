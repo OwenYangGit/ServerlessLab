{
 "cells": [
  {
   "cell_type": "code",
   "execution_count": 1,
   "metadata": {},
   "outputs": [
    {
     "name": "stdout",
     "output_type": "stream",
     "text": [
      "Collecting awscli\n",
      "  Downloading https://files.pythonhosted.org/packages/c2/fb/db83d39c7577dd6719963f86afaa9bf886ba4ae6a1429b66d457da24720a/awscli-1.16.108-py2.py3-none-any.whl (1.4MB)\n",
      "\u001b[K    100% |████████████████████████████████| 1.5MB 412kB/s ta 0:00:011    50% |████████████████▎               | 737kB 183kB/s eta 0:00:04    91% |█████████████████████████████▏  | 1.3MB 173kB/s eta 0:00:01\n",
      "\u001b[?25hCollecting boto3\n",
      "  Downloading https://files.pythonhosted.org/packages/4b/61/5d1c49ef0e8b956f4ccbcc8446389ece14c966e5ea343f6e38fc5a9eade7/boto3-1.9.98-py2.py3-none-any.whl (128kB)\n",
      "\u001b[K    100% |████████████████████████████████| 133kB 3.2MB/s eta 0:00:01\n",
      "\u001b[?25hCollecting PyYAML<=3.13,>=3.10 (from awscli)\n",
      "  Downloading https://files.pythonhosted.org/packages/9e/a3/1d13970c3f36777c583f136c136f804d70f500168edc1edea6daa7200769/PyYAML-3.13.tar.gz (270kB)\n",
      "\u001b[K    100% |████████████████████████████████| 276kB 203kB/s ta 0:00:01\n",
      "\u001b[?25hCollecting colorama<=0.3.9,>=0.2.5 (from awscli)\n",
      "  Downloading https://files.pythonhosted.org/packages/db/c8/7dcf9dbcb22429512708fe3a547f8b6101c0d02137acbd892505aee57adf/colorama-0.3.9-py2.py3-none-any.whl\n",
      "Collecting botocore==1.12.98 (from awscli)\n",
      "  Downloading https://files.pythonhosted.org/packages/b3/dd/47cb20354c42ea84747ac10a6358b97c543d8f48463c3cfee3b8bd302f9b/botocore-1.12.98-py2.py3-none-any.whl (5.3MB)\n",
      "\u001b[K    100% |████████████████████████████████| 5.3MB 72kB/s eta 0:00:011   22% |███████▎                        | 1.2MB 171kB/s eta 0:00:24    36% |███████████▊                    | 1.9MB 191kB/s eta 0:00:18    37% |████████████                    | 2.0MB 1.7MB/s eta 0:00:02    56% |██████████████████              | 2.9MB 1.4MB/s eta 0:00:02    77% |████████████████████████▊       | 4.1MB 927kB/s eta 0:00:02\n",
      "\u001b[?25hCollecting s3transfer<0.3.0,>=0.2.0 (from awscli)\n",
      "  Downloading https://files.pythonhosted.org/packages/d7/de/5737f602e22073ecbded7a0c590707085e154e32b68d86545dcc31004c02/s3transfer-0.2.0-py2.py3-none-any.whl (69kB)\n",
      "\u001b[K    100% |████████████████████████████████| 71kB 161kB/s ta 0:00:011\n",
      "\u001b[?25hCollecting rsa<=3.5.0,>=3.1.2 (from awscli)\n",
      "  Downloading https://files.pythonhosted.org/packages/e1/ae/baedc9cb175552e95f3395c43055a6a5e125ae4d48a1d7a924baca83e92e/rsa-3.4.2-py2.py3-none-any.whl (46kB)\n",
      "\u001b[K    100% |████████████████████████████████| 51kB 135kB/s ta 0:00:01\n",
      "\u001b[?25hCollecting docutils>=0.10 (from awscli)\n",
      "  Downloading https://files.pythonhosted.org/packages/36/fa/08e9e6e0e3cbd1d362c3bbee8d01d0aedb2155c4ac112b19ef3cae8eed8d/docutils-0.14-py3-none-any.whl (543kB)\n",
      "\u001b[K    100% |████████████████████████████████| 552kB 163kB/s ta 0:00:01\n",
      "\u001b[?25hCollecting jmespath<1.0.0,>=0.7.1 (from boto3)\n",
      "  Downloading https://files.pythonhosted.org/packages/b7/31/05c8d001f7f87f0f07289a5fc0fc3832e9a57f2dbd4d3b0fee70e0d51365/jmespath-0.9.3-py2.py3-none-any.whl\n",
      "Requirement already satisfied: python-dateutil<3.0.0,>=2.1; python_version >= \"2.7\" in /opt/conda/lib/python3.6/site-packages (from botocore==1.12.98->awscli)\n",
      "Requirement already satisfied: urllib3<1.25,>=1.20; python_version >= \"3.4\" in /opt/conda/lib/python3.6/site-packages (from botocore==1.12.98->awscli)\n",
      "Requirement already satisfied: pyasn1>=0.1.3 in /opt/conda/lib/python3.6/site-packages (from rsa<=3.5.0,>=3.1.2->awscli)\n",
      "Requirement already satisfied: six>=1.5 in /opt/conda/lib/python3.6/site-packages (from python-dateutil<3.0.0,>=2.1; python_version >= \"2.7\"->botocore==1.12.98->awscli)\n",
      "Building wheels for collected packages: PyYAML\n",
      "  Running setup.py bdist_wheel for PyYAML ... \u001b[?25ldone\n",
      "\u001b[?25h  Stored in directory: /home/jovyan/.cache/pip/wheels/ad/da/0c/74eb680767247273e2cf2723482cb9c924fe70af57c334513f\n",
      "Successfully built PyYAML\n",
      "Installing collected packages: PyYAML, colorama, jmespath, docutils, botocore, s3transfer, rsa, awscli, boto3\n",
      "Successfully installed PyYAML-3.13 awscli-1.16.108 boto3-1.9.98 botocore-1.12.98 colorama-0.3.9 docutils-0.14 jmespath-0.9.3 rsa-3.4.2 s3transfer-0.2.0\n",
      "\u001b[33mYou are using pip version 9.0.3, however version 19.0.2 is available.\n",
      "You should consider upgrading via the 'pip install --upgrade pip' command.\u001b[0m\n"
     ]
    }
   ],
   "source": [
    "# 安裝 lab 所需 package\n",
    "!pip install awscli boto3"
   ]
  },
  {
   "cell_type": "code",
   "execution_count": 55,
   "metadata": {},
   "outputs": [
    {
     "name": "stdout",
     "output_type": "stream",
     "text": [
      "[]\n"
     ]
    }
   ],
   "source": [
    "# 建立 dynamo 連線 , 打印當前所有 table\n",
    "\n",
    "import boto3\n",
    "\n",
    "ddb1 = boto3.resource('dynamodb', \n",
    "                    endpoint_url='http://dynamodb.ap-northeast-1.amazonaws.com', \n",
    "                    region_name='ap-northeast-1')\n",
    "\n",
    "table_req = ddb1.Table('users')\n",
    "print(table_req)\n"
   ]
  },
  {
   "cell_type": "code",
   "execution_count": 46,
   "metadata": {},
   "outputs": [
    {
     "name": "stdout",
     "output_type": "stream",
     "text": [
      "Table name is exists\n",
      "dynamodb.Table(name='users')\n"
     ]
    }
   ],
   "source": [
    "# 創建 users 表 \n",
    "\n",
    "import boto3\n",
    "\n",
    "ddb1 = boto3.resource('dynamodb', \n",
    "                    endpoint_url='http://dynamodb.ap-northeast-1.amazonaws.com', \n",
    "                    region_name='ap-northeast-1')\n",
    "try:\n",
    "    table = ddb1.create_table(\n",
    "    TableName='users',\n",
    "    KeySchema=[\n",
    "        {\n",
    "            'AttributeName': 'username',\n",
    "            'KeyType': 'HASH'\n",
    "        },\n",
    "        {\n",
    "            'AttributeName': 'last_name',\n",
    "            'KeyType': 'RANGE'\n",
    "        }\n",
    "    ],\n",
    "    AttributeDefinitions=[\n",
    "        {\n",
    "            'AttributeName': 'username',\n",
    "            'AttributeType': 'S'\n",
    "        },\n",
    "        {\n",
    "            'AttributeName': 'last_name',\n",
    "            'AttributeType': 'S'\n",
    "        },\n",
    "    ],\n",
    "    ProvisionedThroughput={\n",
    "        'ReadCapacityUnits': 5,\n",
    "        'WriteCapacityUnits': 5\n",
    "    }\n",
    "    )\n",
    "except:\n",
    "    pass\n",
    "    print('Table name is exists')\n",
    "finally:    \n",
    "    print(table)\n"
   ]
  },
  {
   "cell_type": "code",
   "execution_count": 43,
   "metadata": {},
   "outputs": [
    {
     "data": {
      "text/plain": [
       "{'ResponseMetadata': {'RequestId': 'MTPT8K5BQ1NC323OMGBRTOTISFVV4KQNSO5AEMVJF66Q9ASUAAJG',\n",
       "  'HTTPStatusCode': 200,\n",
       "  'HTTPHeaders': {'connection': 'close',\n",
       "   'content-length': '2',\n",
       "   'content-type': 'application/x-amz-json-1.0',\n",
       "   'date': 'Wed, 20 Feb 2019 09:46:46 GMT',\n",
       "   'x-amz-crc32': '2745614147',\n",
       "   'x-amzn-requestid': 'MTPT8K5BQ1NC323OMGBRTOTISFVV4KQNSO5AEMVJF66Q9ASUAAJG'},\n",
       "  'RetryAttempts': 0}}"
      ]
     },
     "execution_count": 43,
     "metadata": {},
     "output_type": "execute_result"
    }
   ],
   "source": [
    "# create item in table\n",
    "import boto3\n",
    "\n",
    "dynamodb = boto3.resource('dynamodb', \n",
    "                          region_name='ap-northeast-1', \n",
    "                          endpoint_url=\"http://dynamodb.ap-northeast-1.amazonaws.com\")\n",
    "table = dynamodb.Table('users')\n",
    "\n",
    "table.put_item(\n",
    "   Item={\n",
    "        'username': 'owen',\n",
    "        'first_name': 'Yang',\n",
    "        'last_name': 'Yuan',\n",
    "        'age': 24,\n",
    "        'account_type': 'power_user',\n",
    "    }\n",
    ")"
   ]
  },
  {
   "cell_type": "code",
   "execution_count": 56,
   "metadata": {},
   "outputs": [
    {
     "name": "stdout",
     "output_type": "stream",
     "text": [
      "{'username': 'janedoe', 'account_type': 'standard_user', 'last_name': 'Doe', 'first_name': 'Jane', 'age': Decimal('25')}\n"
     ]
    }
   ],
   "source": [
    "# get item in table\n",
    "import boto3\n",
    "\n",
    "dynamodb = boto3.resource('dynamodb', \n",
    "                          region_name='ap-northeast-1', \n",
    "                          endpoint_url=\"http://dynamodb.ap-northeast-1.amazonaws.com\")\n",
    "table = dynamodb.Table('users')\n",
    "response = table.get_item(\n",
    "    Key={\n",
    "        'username': 'janedoe',\n",
    "        'last_name': 'Doe'\n",
    "    }\n",
    ")\n",
    "item = response['Item']\n",
    "print(item)"
   ]
  },
  {
   "cell_type": "code",
   "execution_count": 57,
   "metadata": {},
   "outputs": [
    {
     "data": {
      "text/plain": [
       "{'ResponseMetadata': {'RequestId': 'NM2PVSUJJVI1AHPPDGN961O0JNVV4KQNSO5AEMVJF66Q9ASUAAJG',\n",
       "  'HTTPStatusCode': 200,\n",
       "  'HTTPHeaders': {'connection': 'close',\n",
       "   'content-length': '2',\n",
       "   'content-type': 'application/x-amz-json-1.0',\n",
       "   'date': 'Thu, 21 Feb 2019 03:50:52 GMT',\n",
       "   'x-amz-crc32': '2745614147',\n",
       "   'x-amzn-requestid': 'NM2PVSUJJVI1AHPPDGN961O0JNVV4KQNSO5AEMVJF66Q9ASUAAJG'},\n",
       "  'RetryAttempts': 0}}"
      ]
     },
     "execution_count": 57,
     "metadata": {},
     "output_type": "execute_result"
    }
   ],
   "source": [
    "# update item in table\n",
    "import boto3\n",
    "\n",
    "dynamodb = boto3.resource('dynamodb', \n",
    "                          region_name='ap-northeast-1', \n",
    "                          endpoint_url=\"http://dynamodb.ap-northeast-1.amazonaws.com\")\n",
    "table = dynamodb.Table('users')\n",
    "\n",
    "table.update_item(\n",
    "    Key={\n",
    "        'username': 'janedoe',\n",
    "        'last_name': 'Doe'\n",
    "    },\n",
    "    UpdateExpression='SET age = :val1', \n",
    "    # An expression that defines one or more attributes to be updated, \n",
    "    # the action to be performed on them, and new value(s) for them.\n",
    "    ExpressionAttributeValues={\n",
    "        ':val1': 26\n",
    "    }\n",
    ")"
   ]
  },
  {
   "cell_type": "code",
   "execution_count": 58,
   "metadata": {},
   "outputs": [
    {
     "name": "stdout",
     "output_type": "stream",
     "text": [
      "{'username': 'janedoe', 'account_type': 'standard_user', 'last_name': 'Doe', 'age': Decimal('26'), 'first_name': 'Jane'}\n"
     ]
    }
   ],
   "source": [
    "# get item in table again\n",
    "import boto3\n",
    "\n",
    "dynamodb = boto3.resource('dynamodb', \n",
    "                          region_name='ap-northeast-1', \n",
    "                          endpoint_url=\"http://dynamodb.ap-northeast-1.amazonaws.com\")\n",
    "table = dynamodb.Table('users')\n",
    "response = table.get_item(\n",
    "    Key={\n",
    "        'username': 'janedoe',\n",
    "        'last_name': 'Doe'\n",
    "    }\n",
    ")\n",
    "item = response['Item']\n",
    "print(item)"
   ]
  },
  {
   "cell_type": "code",
   "execution_count": 59,
   "metadata": {},
   "outputs": [
    {
     "data": {
      "text/plain": [
       "{'ResponseMetadata': {'RequestId': 'TKR51JADJROTBHPD72TDD893JBVV4KQNSO5AEMVJF66Q9ASUAAJG',\n",
       "  'HTTPStatusCode': 200,\n",
       "  'HTTPHeaders': {'connection': 'close',\n",
       "   'content-length': '2',\n",
       "   'content-type': 'application/x-amz-json-1.0',\n",
       "   'date': 'Thu, 21 Feb 2019 04:33:11 GMT',\n",
       "   'x-amz-crc32': '2745614147',\n",
       "   'x-amzn-requestid': 'TKR51JADJROTBHPD72TDD893JBVV4KQNSO5AEMVJF66Q9ASUAAJG'},\n",
       "  'RetryAttempts': 0}}"
      ]
     },
     "execution_count": 59,
     "metadata": {},
     "output_type": "execute_result"
    }
   ],
   "source": [
    "# delete item in table\n",
    "import boto3\n",
    "dynamodb = boto3.resource('dynamodb',\n",
    "                          region_name='ap-northeast-1',\n",
    "                          endpoint_url='http://dynamodb.ap-northeast-1.amazonaws.com')\n",
    "table = dynamodb.Table('users')\n",
    "table.delete_item(\n",
    "    Key={\n",
    "        'username': 'janedoe',\n",
    "        'last_name': 'Doe'\n",
    "    }\n",
    ")"
   ]
  },
  {
   "cell_type": "code",
   "execution_count": 60,
   "metadata": {},
   "outputs": [
    {
     "data": {
      "text/plain": [
       "{'TableDescription': {'TableName': 'users',\n",
       "  'TableStatus': 'DELETING',\n",
       "  'ProvisionedThroughput': {'NumberOfDecreasesToday': 0,\n",
       "   'ReadCapacityUnits': 5,\n",
       "   'WriteCapacityUnits': 5},\n",
       "  'TableSizeBytes': 0,\n",
       "  'ItemCount': 0,\n",
       "  'TableArn': 'arn:aws:dynamodb:ap-northeast-1:973971946756:table/users',\n",
       "  'TableId': '571d1645-442c-4eec-82fd-7d20a9c68ab0'},\n",
       " 'ResponseMetadata': {'RequestId': '6RKPFQ5IJAATECFJQ68NVHPPFFVV4KQNSO5AEMVJF66Q9ASUAAJG',\n",
       "  'HTTPStatusCode': 200,\n",
       "  'HTTPHeaders': {'connection': 'close',\n",
       "   'content-length': '317',\n",
       "   'content-type': 'application/x-amz-json-1.0',\n",
       "   'date': 'Thu, 21 Feb 2019 06:29:43 GMT',\n",
       "   'x-amz-crc32': '2618337582',\n",
       "   'x-amzn-requestid': '6RKPFQ5IJAATECFJQ68NVHPPFFVV4KQNSO5AEMVJF66Q9ASUAAJG'},\n",
       "  'RetryAttempts': 0}}"
      ]
     },
     "execution_count": 60,
     "metadata": {},
     "output_type": "execute_result"
    }
   ],
   "source": [
    "# delete table \n",
    "import boto3\n",
    "dynamodb = boto3.resource('dynamodb',\n",
    "                          region_name='ap-northeast-1',\n",
    "                          endpoint_url='http://dynamodb.ap-northeast-1.amazonaws.com')\n",
    "table = dynamodb.Table('users')\n",
    "table.delete()"
   ]
  },
  {
   "cell_type": "code",
   "execution_count": null,
   "metadata": {},
   "outputs": [],
   "source": []
  }
 ],
 "metadata": {
  "kernelspec": {
   "display_name": "Python 3",
   "language": "python",
   "name": "python3"
  },
  "language_info": {
   "codemirror_mode": {
    "name": "ipython",
    "version": 3
   },
   "file_extension": ".py",
   "mimetype": "text/x-python",
   "name": "python",
   "nbconvert_exporter": "python",
   "pygments_lexer": "ipython3",
   "version": "3.6.5"
  }
 },
 "nbformat": 4,
 "nbformat_minor": 2
}
